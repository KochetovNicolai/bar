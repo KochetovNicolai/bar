{
 "cells": [
  {
   "cell_type": "code",
   "execution_count": 1,
   "metadata": {},
   "outputs": [
    {
     "name": "stdout",
     "output_type": "stream",
     "text": [
      "/home/nik-kochetov/work/common\n",
      "/home/nik-kochetov/work/Barcodes/Images\n",
      "/home/nik-kochetov/work/Barcodes/Annotations\n"
     ]
    }
   ],
   "source": [
    "import os\n",
    "ROOT = os.path.join(open('../root').read().strip(), 'common')\n",
    "print ROOT\n",
    "img_path = os.path.join(os.path.dirname(ROOT), 'Barcodes/Images')\n",
    "print img_path\n",
    "conf_path = os.path.join(os.path.dirname(ROOT), 'Barcodes/Annotations')\n",
    "print conf_path"
   ]
  },
  {
   "cell_type": "code",
   "execution_count": 2,
   "metadata": {},
   "outputs": [
    {
     "name": "stderr",
     "output_type": "stream",
     "text": [
      "Using Theano backend.\n"
     ]
    },
    {
     "name": "stdout",
     "output_type": "stream",
     "text": [
      "(37, 37, 24, 1)\n",
      "(37, 37, 6, 1)\n",
      "(18, 18, 24, 1)\n",
      "(18, 18, 6, 1)\n",
      "(7, 7, 24, 1)\n",
      "(7, 7, 6, 1)\n",
      "(5, 5, 24, 1)\n",
      "(5, 5, 6, 1)\n",
      "(3, 3, 24, 1)\n",
      "(3, 3, 6, 1)\n",
      "(1, 1, 24, 1)\n",
      "(1, 1, 6, 1)\n"
     ]
    }
   ],
   "source": [
    "from model import SSDModel\n",
    "ssd_model = SSDModel()"
   ]
  },
  {
   "cell_type": "code",
   "execution_count": null,
   "metadata": {
    "collapsed": true
   },
   "outputs": [],
   "source": [
    "path = os.path.join(ROOT, '../models_2', 'model.21-12-2017.ssd.05.hdf5')\n",
    "ssd_model.model.load_weights(path)"
   ]
  },
  {
   "cell_type": "code",
   "execution_count": null,
   "metadata": {},
   "outputs": [],
   "source": [
    "from converter import Converter\n",
    "ssd_converter = Converter(ROOT)\n",
    "ssd_converter.load(ROOT)"
   ]
  },
  {
   "cell_type": "code",
   "execution_count": null,
   "metadata": {},
   "outputs": [],
   "source": [
    "import converter\n",
    "reload(converter)"
   ]
  },
  {
   "cell_type": "code",
   "execution_count": null,
   "metadata": {
    "collapsed": true
   },
   "outputs": [],
   "source": [
    "from sampler import Sampler\n",
    "sampler = Sampler(conf_path)"
   ]
  },
  {
   "cell_type": "code",
   "execution_count": null,
   "metadata": {
    "collapsed": true
   },
   "outputs": [],
   "source": [
    "import predictor\n",
    "reload(predictor)\n",
    "from predictor import Predictor\n",
    "ssd_predictor = Predictor(ssd_model, ssd_converter)"
   ]
  },
  {
   "cell_type": "code",
   "execution_count": null,
   "metadata": {
    "collapsed": true
   },
   "outputs": [],
   "source": [
    "import evaluator\n",
    "reload(evaluator)\n",
    "from evaluator import Evaluator\n",
    "ssd_evaluator = Evaluator(ssd_predictor)"
   ]
  },
  {
   "cell_type": "code",
   "execution_count": null,
   "metadata": {},
   "outputs": [],
   "source": [
    "res = ssd_evaluator.evaluate(img_path, conf_path, sampler.test[:300], top=10, verbose=5)\n",
    "print res"
   ]
  },
  {
   "cell_type": "code",
   "execution_count": null,
   "metadata": {
    "collapsed": true
   },
   "outputs": [],
   "source": []
  }
 ],
 "metadata": {
  "kernelspec": {
   "display_name": "Python 2",
   "language": "python",
   "name": "python2"
  },
  "language_info": {
   "codemirror_mode": {
    "name": "ipython",
    "version": 2
   },
   "file_extension": ".py",
   "mimetype": "text/x-python",
   "name": "python",
   "nbconvert_exporter": "python",
   "pygments_lexer": "ipython2",
   "version": "2.7.13"
  }
 },
 "nbformat": 4,
 "nbformat_minor": 2
}
